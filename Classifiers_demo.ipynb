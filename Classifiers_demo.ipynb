{
  "nbformat": 4,
  "nbformat_minor": 5,
  "metadata": {
    "kernelspec": {
      "display_name": "Python 3",
      "language": "python",
      "name": "python3"
    },
    "language_info": {
      "codemirror_mode": {
        "name": "ipython",
        "version": 3
      },
      "file_extension": ".py",
      "mimetype": "text/x-python",
      "name": "python",
      "nbconvert_exporter": "python",
      "pygments_lexer": "ipython3",
      "version": "3.8.8"
    },
    "colab": {
      "provenance": [],
      "include_colab_link": true
    }
  },
  "cells": [
    {
      "cell_type": "markdown",
      "metadata": {
        "id": "view-in-github",
        "colab_type": "text"
      },
      "source": [
        "<a href=\"https://colab.research.google.com/github/perch97/Machine_Learning_HSE/blob/main/Classifiers_demo.ipynb\" target=\"_parent\"><img src=\"https://colab.research.google.com/assets/colab-badge.svg\" alt=\"Open In Colab\"/></a>"
      ]
    },
    {
      "cell_type": "markdown",
      "metadata": {
        "id": "african-marble"
      },
      "source": [
        "# Бинарные классификаторы"
      ],
      "id": "african-marble"
    },
    {
      "cell_type": "markdown",
      "source": [
        "## Импорт библиотек"
      ],
      "metadata": {
        "id": "Xjp4Qx5X6nFd"
      },
      "id": "Xjp4Qx5X6nFd"
    },
    {
      "cell_type": "code",
      "source": [
        "%%capture\n",
        "!pip install --upgrade mlxtend"
      ],
      "metadata": {
        "id": "zDMsic7A9Fl5"
      },
      "id": "zDMsic7A9Fl5",
      "execution_count": null,
      "outputs": []
    },
    {
      "cell_type": "code",
      "metadata": {
        "id": "manual-launch"
      },
      "source": [
        "import numpy as np\n",
        "import pandas as pd\n",
        "import matplotlib.pyplot as plt"
      ],
      "id": "manual-launch",
      "execution_count": null,
      "outputs": []
    },
    {
      "cell_type": "markdown",
      "source": [
        "## Функция потерь"
      ],
      "metadata": {
        "id": "r3F1OYaS6qUX"
      },
      "id": "r3F1OYaS6qUX"
    },
    {
      "cell_type": "markdown",
      "source": [
        "Бинарный линейный классификатор делает предсказание по формуле\n",
        "$$a(x) = (w,x).$$\n",
        "\n",
        "А вот функции потерь у разных классификаторов разные."
      ],
      "metadata": {
        "id": "h4xja-9f4BCC"
      },
      "id": "h4xja-9f4BCC"
    },
    {
      "cell_type": "markdown",
      "metadata": {
        "id": "impressive-fetish"
      },
      "source": [
        "*  Функция потерь логистической регрессии:\n",
        "\n",
        "$$\n",
        "Q_{LR}(X, w) = -\\frac{1}{\\ell} \\sum_{i=1}^{\\ell} [y_i = 1]\\log\\sigma(\\langle x_i, w \\rangle) + [y_i = -1]\\log(1-\\sigma(\\langle x_i, w \\rangle),\n",
        "$$\n",
        "где $\\sigma(z)=\\frac1{1+e^{-z}}$.\n",
        "\n",
        "\n",
        "Эта функция называется log-loss."
      ],
      "id": "impressive-fetish"
    },
    {
      "cell_type": "markdown",
      "metadata": {
        "id": "meaningful-chase"
      },
      "source": [
        "*  Функция потерь метода опорных векторов:\n",
        "\n",
        "$$\n",
        "Q_{SVM}(X, w) = C\\sum_{i=1}^{l} \\max\\{0, 1 - y_i(\\langle x_i, w\\rangle)\\} + \\|w\\|^2 \\to \\min_w,\n",
        "$$\n",
        "где $C$ - гиперпараметр."
      ],
      "id": "meaningful-chase"
    },
    {
      "cell_type": "markdown",
      "metadata": {
        "id": "abroad-hamburg"
      },
      "source": [
        "Рассмотрим свойства логистической регрессии и метода опорных векторов на примере классического набора данных [\"Ирисы Фишера\"](https://ru.wikipedia.org/wiki/Ирисы_Фишера). Этот набор состоит из 150 наблюдений, каждое из которых представляет собой четыре измерения: длина наружной доли околоцветника (`sepal length`), ширина наружной доли околоцветника (`sepal width`), длина внутренней доли околоцветника (`petal length`), ширина внутренней доли околоцветника (`petal width`). Каждое наблюдение относится к одному из трёх классов ириса: `setosa`, `versicolor` или `virginica`.\n",
        "\n",
        "Задача состоит в том, чтобы по измерениям предсказать класс цветка.\n",
        "\n",
        "[<img src=\"https://miro.medium.com/max/1000/1*Hh53mOF4Xy4eORjLilKOwA.png\" alt=\"drawing\" width=\"800\"/>](https://miro.medium.com/max/1000/1*Hh53mOF4Xy4eORjLilKOwA.png)"
      ],
      "id": "abroad-hamburg"
    },
    {
      "cell_type": "markdown",
      "source": [
        "## Обзор данных"
      ],
      "metadata": {
        "id": "T7iT0n0-60rJ"
      },
      "id": "T7iT0n0-60rJ"
    },
    {
      "cell_type": "code",
      "metadata": {
        "id": "several-bradford",
        "colab": {
          "base_uri": "https://localhost:8080/",
          "height": 206
        },
        "outputId": "0dae356e-4abc-451c-d9e5-77ce9f4d67b7"
      },
      "source": [
        "from sklearn.datasets import load_iris\n",
        "data = load_iris()\n",
        "X = pd.DataFrame(data['data'], columns = data['feature_names'])\n",
        "y = data['target']\n",
        "X.head()"
      ],
      "id": "several-bradford",
      "execution_count": null,
      "outputs": [
        {
          "output_type": "execute_result",
          "data": {
            "text/plain": [
              "   sepal length (cm)  sepal width (cm)  petal length (cm)  petal width (cm)\n",
              "0                5.1               3.5                1.4               0.2\n",
              "1                4.9               3.0                1.4               0.2\n",
              "2                4.7               3.2                1.3               0.2\n",
              "3                4.6               3.1                1.5               0.2\n",
              "4                5.0               3.6                1.4               0.2"
            ],
            "text/html": [
              "\n",
              "  <div id=\"df-44c4588b-cfe3-460f-a2d6-c042ca8d6656\">\n",
              "    <div class=\"colab-df-container\">\n",
              "      <div>\n",
              "<style scoped>\n",
              "    .dataframe tbody tr th:only-of-type {\n",
              "        vertical-align: middle;\n",
              "    }\n",
              "\n",
              "    .dataframe tbody tr th {\n",
              "        vertical-align: top;\n",
              "    }\n",
              "\n",
              "    .dataframe thead th {\n",
              "        text-align: right;\n",
              "    }\n",
              "</style>\n",
              "<table border=\"1\" class=\"dataframe\">\n",
              "  <thead>\n",
              "    <tr style=\"text-align: right;\">\n",
              "      <th></th>\n",
              "      <th>sepal length (cm)</th>\n",
              "      <th>sepal width (cm)</th>\n",
              "      <th>petal length (cm)</th>\n",
              "      <th>petal width (cm)</th>\n",
              "    </tr>\n",
              "  </thead>\n",
              "  <tbody>\n",
              "    <tr>\n",
              "      <th>0</th>\n",
              "      <td>5.1</td>\n",
              "      <td>3.5</td>\n",
              "      <td>1.4</td>\n",
              "      <td>0.2</td>\n",
              "    </tr>\n",
              "    <tr>\n",
              "      <th>1</th>\n",
              "      <td>4.9</td>\n",
              "      <td>3.0</td>\n",
              "      <td>1.4</td>\n",
              "      <td>0.2</td>\n",
              "    </tr>\n",
              "    <tr>\n",
              "      <th>2</th>\n",
              "      <td>4.7</td>\n",
              "      <td>3.2</td>\n",
              "      <td>1.3</td>\n",
              "      <td>0.2</td>\n",
              "    </tr>\n",
              "    <tr>\n",
              "      <th>3</th>\n",
              "      <td>4.6</td>\n",
              "      <td>3.1</td>\n",
              "      <td>1.5</td>\n",
              "      <td>0.2</td>\n",
              "    </tr>\n",
              "    <tr>\n",
              "      <th>4</th>\n",
              "      <td>5.0</td>\n",
              "      <td>3.6</td>\n",
              "      <td>1.4</td>\n",
              "      <td>0.2</td>\n",
              "    </tr>\n",
              "  </tbody>\n",
              "</table>\n",
              "</div>\n",
              "      <button class=\"colab-df-convert\" onclick=\"convertToInteractive('df-44c4588b-cfe3-460f-a2d6-c042ca8d6656')\"\n",
              "              title=\"Convert this dataframe to an interactive table.\"\n",
              "              style=\"display:none;\">\n",
              "        \n",
              "  <svg xmlns=\"http://www.w3.org/2000/svg\" height=\"24px\"viewBox=\"0 0 24 24\"\n",
              "       width=\"24px\">\n",
              "    <path d=\"M0 0h24v24H0V0z\" fill=\"none\"/>\n",
              "    <path d=\"M18.56 5.44l.94 2.06.94-2.06 2.06-.94-2.06-.94-.94-2.06-.94 2.06-2.06.94zm-11 1L8.5 8.5l.94-2.06 2.06-.94-2.06-.94L8.5 2.5l-.94 2.06-2.06.94zm10 10l.94 2.06.94-2.06 2.06-.94-2.06-.94-.94-2.06-.94 2.06-2.06.94z\"/><path d=\"M17.41 7.96l-1.37-1.37c-.4-.4-.92-.59-1.43-.59-.52 0-1.04.2-1.43.59L10.3 9.45l-7.72 7.72c-.78.78-.78 2.05 0 2.83L4 21.41c.39.39.9.59 1.41.59.51 0 1.02-.2 1.41-.59l7.78-7.78 2.81-2.81c.8-.78.8-2.07 0-2.86zM5.41 20L4 18.59l7.72-7.72 1.47 1.35L5.41 20z\"/>\n",
              "  </svg>\n",
              "      </button>\n",
              "      \n",
              "  <style>\n",
              "    .colab-df-container {\n",
              "      display:flex;\n",
              "      flex-wrap:wrap;\n",
              "      gap: 12px;\n",
              "    }\n",
              "\n",
              "    .colab-df-convert {\n",
              "      background-color: #E8F0FE;\n",
              "      border: none;\n",
              "      border-radius: 50%;\n",
              "      cursor: pointer;\n",
              "      display: none;\n",
              "      fill: #1967D2;\n",
              "      height: 32px;\n",
              "      padding: 0 0 0 0;\n",
              "      width: 32px;\n",
              "    }\n",
              "\n",
              "    .colab-df-convert:hover {\n",
              "      background-color: #E2EBFA;\n",
              "      box-shadow: 0px 1px 2px rgba(60, 64, 67, 0.3), 0px 1px 3px 1px rgba(60, 64, 67, 0.15);\n",
              "      fill: #174EA6;\n",
              "    }\n",
              "\n",
              "    [theme=dark] .colab-df-convert {\n",
              "      background-color: #3B4455;\n",
              "      fill: #D2E3FC;\n",
              "    }\n",
              "\n",
              "    [theme=dark] .colab-df-convert:hover {\n",
              "      background-color: #434B5C;\n",
              "      box-shadow: 0px 1px 3px 1px rgba(0, 0, 0, 0.15);\n",
              "      filter: drop-shadow(0px 1px 2px rgba(0, 0, 0, 0.3));\n",
              "      fill: #FFFFFF;\n",
              "    }\n",
              "  </style>\n",
              "\n",
              "      <script>\n",
              "        const buttonEl =\n",
              "          document.querySelector('#df-44c4588b-cfe3-460f-a2d6-c042ca8d6656 button.colab-df-convert');\n",
              "        buttonEl.style.display =\n",
              "          google.colab.kernel.accessAllowed ? 'block' : 'none';\n",
              "\n",
              "        async function convertToInteractive(key) {\n",
              "          const element = document.querySelector('#df-44c4588b-cfe3-460f-a2d6-c042ca8d6656');\n",
              "          const dataTable =\n",
              "            await google.colab.kernel.invokeFunction('convertToInteractive',\n",
              "                                                     [key], {});\n",
              "          if (!dataTable) return;\n",
              "\n",
              "          const docLinkHtml = 'Like what you see? Visit the ' +\n",
              "            '<a target=\"_blank\" href=https://colab.research.google.com/notebooks/data_table.ipynb>data table notebook</a>'\n",
              "            + ' to learn more about interactive tables.';\n",
              "          element.innerHTML = '';\n",
              "          dataTable['output_type'] = 'display_data';\n",
              "          await google.colab.output.renderOutput(dataTable, element);\n",
              "          const docLink = document.createElement('div');\n",
              "          docLink.innerHTML = docLinkHtml;\n",
              "          element.appendChild(docLink);\n",
              "        }\n",
              "      </script>\n",
              "    </div>\n",
              "  </div>\n",
              "  "
            ]
          },
          "metadata": {},
          "execution_count": 3
        }
      ]
    },
    {
      "cell_type": "code",
      "source": [
        "set(y)"
      ],
      "metadata": {
        "colab": {
          "base_uri": "https://localhost:8080/"
        },
        "id": "FGTNCRZS4MxM",
        "outputId": "d0f8bb36-1d8b-40f5-dbd3-618999dd7ab2"
      },
      "id": "FGTNCRZS4MxM",
      "execution_count": null,
      "outputs": [
        {
          "output_type": "execute_result",
          "data": {
            "text/plain": [
              "{0, 1, 2}"
            ]
          },
          "metadata": {},
          "execution_count": 4
        }
      ]
    },
    {
      "cell_type": "markdown",
      "source": [
        "## Задача"
      ],
      "metadata": {
        "id": "VxcarS1a66bV"
      },
      "id": "VxcarS1a66bV"
    },
    {
      "cell_type": "markdown",
      "metadata": {
        "id": "velvet-macintosh"
      },
      "source": [
        "Перейдём к задаче бинарной классификации: будем предсказывать принадлежность цветка к виду `versicolor` против принадлежности ко всем прочим видам. Перекодируем целевую переменную так, чтобы цветки вида `versicolor` имели метку 1, а прочих видов – метку 0."
      ],
      "id": "velvet-macintosh"
    },
    {
      "cell_type": "code",
      "metadata": {
        "id": "unsigned-portable",
        "colab": {
          "base_uri": "https://localhost:8080/"
        },
        "outputId": "a1866259-7273-46fe-cd61-3f183013ffa2"
      },
      "source": [
        "data['target_names']"
      ],
      "id": "unsigned-portable",
      "execution_count": null,
      "outputs": [
        {
          "output_type": "execute_result",
          "data": {
            "text/plain": [
              "array(['setosa', 'versicolor', 'virginica'], dtype='<U10')"
            ]
          },
          "metadata": {},
          "execution_count": 5
        }
      ]
    },
    {
      "cell_type": "code",
      "metadata": {
        "id": "balanced-uzbekistan",
        "colab": {
          "base_uri": "https://localhost:8080/"
        },
        "outputId": "7badd0a4-0c24-4a2e-9fef-284b7dcec74d"
      },
      "source": [
        "y[y != 1] = 0\n",
        "\n",
        "y[:100]"
      ],
      "id": "balanced-uzbekistan",
      "execution_count": null,
      "outputs": [
        {
          "output_type": "execute_result",
          "data": {
            "text/plain": [
              "array([0, 0, 0, 0, 0, 0, 0, 0, 0, 0, 0, 0, 0, 0, 0, 0, 0, 0, 0, 0, 0, 0,\n",
              "       0, 0, 0, 0, 0, 0, 0, 0, 0, 0, 0, 0, 0, 0, 0, 0, 0, 0, 0, 0, 0, 0,\n",
              "       0, 0, 0, 0, 0, 0, 1, 1, 1, 1, 1, 1, 1, 1, 1, 1, 1, 1, 1, 1, 1, 1,\n",
              "       1, 1, 1, 1, 1, 1, 1, 1, 1, 1, 1, 1, 1, 1, 1, 1, 1, 1, 1, 1, 1, 1,\n",
              "       1, 1, 1, 1, 1, 1, 1, 1, 1, 1, 1, 1])"
            ]
          },
          "metadata": {},
          "execution_count": 6
        }
      ]
    },
    {
      "cell_type": "markdown",
      "metadata": {
        "id": "imported-symphony"
      },
      "source": [
        "Наши следующие действия:\n",
        "\n",
        "*  Будем работать с двумя признаками: `sepal length (cm)` и `sepal width (cm)`. Сделаем из  них в отдельную матрицу.\n",
        "*  Отмасштабируем выборки при помощи StandardScaler.\n",
        "*  Построим диаграмму рассеяния по тренировочной выборке и убедимся, что данные линейно не разделимы."
      ],
      "id": "imported-symphony"
    },
    {
      "cell_type": "code",
      "metadata": {
        "id": "imperial-dealer",
        "colab": {
          "base_uri": "https://localhost:8080/",
          "height": 265
        },
        "outputId": "ce423744-73ba-4378-ef29-dc4153ea13cc"
      },
      "source": [
        "from sklearn.model_selection import train_test_split\n",
        "from sklearn.preprocessing import StandardScaler\n",
        "np.random.seed(123)\n",
        "\n",
        "X = X[['sepal length (cm)', 'sepal width (cm)']]\n",
        "\n",
        "ss = StandardScaler()\n",
        "X = ss.fit_transform(X)\n",
        "\n",
        "plt.scatter(X[:, 0], X[:, 1], c = y);"
      ],
      "id": "imperial-dealer",
      "execution_count": null,
      "outputs": [
        {
          "output_type": "display_data",
          "data": {
            "text/plain": [
              "<Figure size 432x288 with 1 Axes>"
            ],
            "image/png": "[encoded data removed]"
          },
          "metadata": {
            "needs_background": "light"
          }
        }
      ]
    },
    {
      "cell_type": "markdown",
      "metadata": {
        "id": "nominated-nightmare"
      },
      "source": [
        "Обучим логистическую регрессию и метод опорных векторов на тренировочной выборке и убедимся, что полученные веса различаются."
      ],
      "id": "nominated-nightmare"
    },
    {
      "cell_type": "code",
      "metadata": {
        "id": "imperial-saskatchewan",
        "colab": {
          "base_uri": "https://localhost:8080/"
        },
        "outputId": "04b6072f-abaa-466b-d99d-9708c8f0808c"
      },
      "source": [
        "from sklearn.linear_model import LogisticRegression\n",
        "from sklearn.svm import LinearSVC\n",
        "\n",
        "lr = LogisticRegression()\n",
        "lr.fit(X, y)\n",
        "\n",
        "svm = LinearSVC()\n",
        "svm.fit(X, y)\n",
        "\n",
        "print(lr.coef_)\n",
        "print(svm.coef_)"
      ],
      "id": "imperial-saskatchewan",
      "execution_count": null,
      "outputs": [
        {
          "output_type": "stream",
          "name": "stdout",
          "text": [
            "[[ 0.10322342 -1.29986455]]\n",
            "[[ 0.02577121 -0.52075038]]\n"
          ]
        }
      ]
    },
    {
      "cell_type": "markdown",
      "metadata": {
        "id": "dominant-jenny"
      },
      "source": [
        "Теперь посмотрим, как различаются решающие поверхности алгоритмов."
      ],
      "id": "dominant-jenny"
    },
    {
      "cell_type": "markdown",
      "metadata": {
        "id": "cloudy-profit"
      },
      "source": [
        "Код ниже построит решающие поверхности для классификаторов."
      ],
      "id": "cloudy-profit"
    },
    {
      "cell_type": "code",
      "metadata": {
        "id": "marine-dictionary",
        "colab": {
          "base_uri": "https://localhost:8080/",
          "height": 499
        },
        "outputId": "7a2b5d5a-df7c-49a1-854f-2a0283eb49c3"
      },
      "source": [
        "import matplotlib.pyplot as plt\n",
        "from mlxtend.plotting import plot_decision_regions\n",
        "import matplotlib.gridspec as gridspec\n",
        "import itertools\n",
        "gs = gridspec.GridSpec(1, 2)\n",
        "\n",
        "fig = plt.figure(figsize=(10,8))\n",
        "\n",
        "labels = ['Logistic Regression', 'SVM']\n",
        "for clf, lab, grd in zip([lr, svm],\n",
        "                         labels,\n",
        "                         itertools.product([0, 1], repeat=2)):\n",
        "\n",
        "    ax = plt.subplot(gs[grd[0], grd[1]])\n",
        "    fig = plot_decision_regions(X=X, y=np.array(y), clf=clf, legend=2)\n",
        "    plt.title(lab)\n",
        "\n",
        "plt.show();"
      ],
      "id": "marine-dictionary",
      "execution_count": null,
      "outputs": [
        {
          "output_type": "display_data",
          "data": {
            "text/plain": [
              "<Figure size 720x576 with 2 Axes>"
            ],
            "image/png": "[encoded data removed]"
          },
          "metadata": {
            "needs_background": "light"
          }
        }
      ]
    }
  ]
}